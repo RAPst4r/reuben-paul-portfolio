{
 "cells": [
  {
   "cell_type": "markdown",
   "metadata": {
    "deletable": true,
    "editable": true
   },
   "source": [
    "## Self-Driving Cars - Finding Lanes"
   ]
  },
  {
   "cell_type": "markdown",
   "metadata": {
    "deletable": true,
    "editable": true
   },
   "source": [
    "# Steps\n",
    "\n",
    "1. Read the image from the camera\n",
    "2. Blur the image using Gaussian blur to remove color\n",
    "3. Apply mask to find the region of interest (ROI)\n",
    "4. Color the Region of Interest\n",
    "5. Detect Edges using the Canny Algorithm\n",
    "6. Color the Edges using Hough Transform\n",
    "7. Draw line segments by color only the ROI using Hough Transform\n",
    "8. Extrapolate line segments to determine lanes\n",
    "\n",
    "The image below shows the code steps."
   ]
  },
  {
   "cell_type": "code",
   "execution_count": null,
   "metadata": {
    "collapsed": false,
    "deletable": true,
    "editable": true,
    "jupyter": {
     "outputs_hidden": false
    }
   },
   "outputs": [],
   "source": [
    "from IPython.core.display import Image\n",
    "Image(filename='car-lanes-finder-steps.png')"
   ]
  },
  {
   "cell_type": "markdown",
   "metadata": {
    "collapsed": true,
    "deletable": true,
    "editable": true,
    "jupyter": {
     "outputs_hidden": true
    }
   },
   "source": [
    "The following section shows the code for each step:"
   ]
  },
  {
   "cell_type": "code",
   "execution_count": null,
   "metadata": {
    "deletable": true,
    "editable": true
   },
   "outputs": [],
   "source": [
    "#importing some useful packages\n",
    "import matplotlib.pyplot as plt\n",
    "import matplotlib.image as mpimg\n",
    "import numpy as np\n",
    "import cv2 #Including OpenCV libraries\n",
    "import os\n",
    "import math"
   ]
  },
  {
   "cell_type": "code",
   "execution_count": null,
   "metadata": {
    "collapsed": false,
    "deletable": true,
    "editable": true,
    "jupyter": {
     "outputs_hidden": false
    }
   },
   "outputs": [],
   "source": [
    "def grayscale(img):\n",
    "    \"\"\"Applies the Grayscale transform\n",
    "    This will return an image with only one color channel\n",
    "    but NOTE: to see the returned image as grayscale\n",
    "    (assuming your grayscaled image is called 'gray')\n",
    "    you should call plt.imshow(gray, cmap='gray')\"\"\"\n",
    "    return cv2.cvtColor(img, cv2.COLOR_RGB2GRAY)\n",
    "    # Or use BGR2GRAY if you read an image with cv2.imread()\n",
    "    # return cv2.cvtColor(img, cv2.COLOR_BGR2GRAY)\n",
    "\n",
    "def gaussian_blur(img, kernel_size):\n",
    "    \"\"\"Applies a Gaussian Noise kernel\"\"\"\n",
    "    return cv2.GaussianBlur(img, (kernel_size, kernel_size), 0)\n",
    "\n",
    "def canny(img, low_threshold, high_threshold):\n",
    "    \"\"\"Applies the Canny transform\"\"\"\n",
    "    return cv2.Canny(img, low_threshold, high_threshold)\n",
    "    \n",
    "def region_of_interest(img, vertices):\n",
    "    \"\"\"\n",
    "    Applies an image mask.\n",
    "    \n",
    "    Only keeps the region of the image defined by the polygon\n",
    "    formed from `vertices`. The rest of the image is set to black.\n",
    "    \"\"\"\n",
    "    #defining a blank mask to start with\n",
    "    mask = np.zeros_like(img)   \n",
    "    \n",
    "    #defining a 3 channel or 1 channel color to fill the mask with depending on the input image\n",
    "\n",
    "    if len(img.shape) > 2:\n",
    "        channel_count = img.shape[2]  # i.e. 3 or 4 depending on your image\n",
    "        ignore_mask_color = (255,) * channel_count\n",
    "    else:\n",
    "        ignore_mask_color = 255\n",
    "        \n",
    "    #filling pixels inside the polygon defined by \"vertices\" with the fill color    \n",
    "    cv2.fillPoly(mask, vertices, ignore_mask_color)\n",
    "    \n",
    "    #returning the image only where mask pixels are nonzero\n",
    "    masked_image = cv2.bitwise_and(img, mask)\n",
    "    return masked_image\n",
    "\n",
    "def hough_lines(img, rho, theta, threshold, min_line_len, max_line_gap):\n",
    "    \"\"\"\n",
    "    `img` should be the output of a Canny transform.\n",
    "        \n",
    "    Returns an image with hough lines drawn.\n",
    "    \"\"\"\n",
    "    lines = cv2.HoughLinesP(img, rho, theta, threshold, np.array([]), minLineLength=min_line_len, maxLineGap=max_line_gap)\n",
    "    line_img = np.zeros((img.shape[0], img.shape[1], 3), dtype=np.uint8)\n",
    "    draw_lines(line_img, lines)\n",
    "    return line_img\n",
    "\n",
    "def mean(numbers):\n",
    "    return float(sum(numbers) / len(numbers))\n",
    "\n",
    "def draw_lines(img, lines, color=[255, 0, 0], thickness=15):\n",
    "    \n",
    "    imshape = img.shape\n",
    "  \n",
    "    leftLaneSlopeArray = []\n",
    "    leftLaneInterceptArray = []\n",
    "    rightLaneSlopeArray = []\n",
    "    rightLaneInterceptArray = []\n",
    "    \n",
    "    for line in lines:\n",
    "        for x1,y1,x2,y2 in line:\n",
    "            #PolyFit function of Numpy gives you slope and intercept\n",
    "            slope, intercept = np.polyfit((x1,x2), (y1,y2), 1)\n",
    "            #print(slope, intercept)\n",
    "            \n",
    "            if (slope > 0):\n",
    "                leftLaneSlopeArray += [slope]\n",
    "                leftLaneInterceptArray += [intercept]\n",
    "            else:\n",
    "                rightLaneSlopeArray += [slope]\n",
    "                rightLaneInterceptArray += [intercept]\n",
    "\n",
    "    '''\n",
    "    print (leftLaneSlopeArray)\n",
    "    print (leftLaneInterceptArray)\n",
    "    \n",
    "    print (rightLaneSlopeArray)\n",
    "    print (rightLaneInterceptArray)\n",
    "    '''\n",
    "    \n",
    "    leftLaneSlopeArrayAverage = np.mean(leftLaneSlopeArray)\n",
    "    leftLaneInterceptArrayAverage = np.mean(leftLaneInterceptArray)\n",
    "    \n",
    "    rightLaneSlopeArrayAverage = np.mean(rightLaneSlopeArray)\n",
    "    rightLaneInterceptArrayAverage = np.mean(rightLaneInterceptArray)\n",
    "    \n",
    "    #   y = mx + b\n",
    "    #   x = (y - b)/m\n",
    "    #   b = y - mx\n",
    "\n",
    "    yMin = 0\n",
    "    yMax = image.shape[0]\n",
    "    \n",
    "    yMin = 325\n",
    "    yMax = image.shape[0]\n",
    "    \n",
    "    #print(yMin, yMax, leftLaneSlopeArrayAverage, leftLaneInterceptArrayAverage, rightLaneSlopeArrayAverage, rightLaneInterceptArrayAverage)\n",
    "\n",
    "    #yMin=360 \n",
    "    #yMax=540 \n",
    "    #leftLaneSlopeArrayAverage=2.41568391496e-15 \n",
    "    #leftLaneInterceptArrayAverage=508.0 \n",
    "    #rightLaneSlopeArrayAverage=-0.618339899623 \n",
    "    #rightLaneInterceptArrayAverage=628.920102703\n",
    "\n",
    "    try:\n",
    "        x1Left = int(np.nan_to_num(float((yMin-leftLaneInterceptArrayAverage)/leftLaneSlopeArrayAverage)))\n",
    "        x2Left = int(np.nan_to_num(float((yMax-leftLaneInterceptArrayAverage)/leftLaneSlopeArrayAverage)))\n",
    "        cv2.line(img, (x1Left, yMin), (x2Left, yMax), color, thickness)\n",
    "    except ValueError:\n",
    "        pass\n",
    "    except OverflowError:\n",
    "        pass\n",
    "    \n",
    "    try:\n",
    "        x1Right = int(np.nan_to_num(float((yMin-rightLaneInterceptArrayAverage)/rightLaneSlopeArrayAverage)))\n",
    "        x2Right = int(np.nan_to_num(float((yMax-rightLaneInterceptArrayAverage)/rightLaneSlopeArrayAverage)))\n",
    "        cv2.line(img, (x1Right, yMin), (x2Right, yMax), color, thickness)\n",
    "    except ValueError:\n",
    "        pass\n",
    "    except OverflowError:\n",
    "        pass\n",
    "    \n",
    "    #print (\"x1Left\", x1Left, \"x2Left\", x2Left, \"x1Right\", x1Right, \"x2Right\", x2Right)\n",
    "    #x1Left -61266293608840008 x2Left 13246766185695422 x1Right 434 x2Right 143\n",
    "\n",
    "# Python 3 has support for cool math symbols.\n",
    "def weighted_img(img, initial_img, a=0.8, b=1., g=0.):\n",
    "    return cv2.addWeighted(initial_img, a, img, b, g)"
   ]
  },
  {
   "cell_type": "code",
   "execution_count": null,
   "metadata": {
    "deletable": true,
    "editable": true
   },
   "outputs": [],
   "source": [
    "def process_image(image):\n",
    "    # NOTE: The output you return should be a color image (3 channel) for processing video below\n",
    "    # TODO: put your pipeline here,\n",
    "    # you should return the final output (image where lines are drawn on lanes)\n",
    "\n",
    "    #printing out some states and plotting\n",
    "    #print('The image is:', type(image), 'with dimensions\"', image.shape)\n",
    "\n",
    "    gray_image = grayscale(image)\n",
    "\n",
    "    kernel_size = 5\n",
    "    blurred_gray_image = gaussian_blur(gray_image,kernel_size)\n",
    "\n",
    "    low_threshold = 50\n",
    "    high_threshold = 150\n",
    "\n",
    "    cannyEdge_image = canny(blurred_gray_image, low_threshold, high_threshold)\n",
    "\n",
    "    xMin = 0\n",
    "    yMin = 0\n",
    "    xMax = image.shape[1]\n",
    "    yMax = image.shape[0]\n",
    "    yLen = 360\n",
    "    #print(xMin, xMax, yMin, yMax, yLen)\n",
    "    \n",
    "    bottom_left = [xMin,yMax]\n",
    "    top_left = [415,360]\n",
    "    top_right = [575,yLen]\n",
    "    bottom_right = [xMax,yMax]\n",
    "    '''\n",
    "    bottom_left = [115,540]\n",
    "    top_left = [415,360]\n",
    "    top_right = [575,360]\n",
    "    bottom_right = [900,540]\n",
    "    '''\n",
    "\n",
    "    vertices = np.array([[bottom_left,top_left, top_right, bottom_right]], dtype=np.int32)\n",
    "    #print(vertices)\n",
    "\n",
    "    masked_image = region_of_interest(cannyEdge_image, vertices)\n",
    "\n",
    "    rho = 1\n",
    "    theta = np.pi/180\n",
    "    threshold = 1\n",
    "    min_line_length = 40\n",
    "    max_line_gap = 20\n",
    "\n",
    "    #Create a blank image to draw lines on\n",
    "    #BlankLine_image = np.copy(image)*0 \n",
    "    #houghLine_image = hough_lines(masked_image, rho, theta, threshold, min_line_length, max_line_gap)\n",
    "\n",
    "    houghLine_image = hough_lines(masked_image, rho, theta, threshold, min_line_length, max_line_gap)\n",
    "               \n",
    "    #lines = cv2.HoughLinesP(masked_image, rho, theta, threshold, np.array([]), min_line_length, max_line_gap)\n",
    "    #line_image = np.zeros((masked_image.shape[0], masked_image.shape[1], 3),dtype=np.uint8)\n",
    "    '''\n",
    "    coloredBinary_image = np.dstack((cannyEdge_image,cannyEdge_image,cannyEdge_image))\n",
    "    weightedImage =cv2.addWeighted(coloredBinary_image, 0.8, houghLine_image, 1, 0)\n",
    "\n",
    "    houghLine_image = hough_lines(masked_image, rho, theta, threshold, min_line_length, max_line_gap)\n",
    "\n",
    "    #Create a color binary image to combine with Line Image\n",
    "    coloredBinary_image = np.dstack((cannyEdge_image, cannyEdge_image, cannyEdge_image))\n",
    "    #plt.imshow(coloredBinary_image) # if you wanted to show a single color channel image called 'gray', for example, call as plt.imshow(gray, cmap='gray')\n",
    "\n",
    "    #Draw the lines on the edge images\n",
    "    weightedImage = cv2.addWeighted(coloredBinary_image, 0.8, blankLine_image, 1, 0)\n",
    "    '''\n",
    "    #houghLine_image_in_ROI = region_of_interest(houghLine_image, vertices)\n",
    "    \n",
    "    result = weighted_img(houghLine_image, image)\n",
    "\n",
    "    return result"
   ]
  },
  {
   "cell_type": "code",
   "execution_count": null,
   "metadata": {
    "collapsed": false,
    "deletable": true,
    "editable": true,
    "jupyter": {
     "outputs_hidden": false
    }
   },
   "outputs": [],
   "source": [
    "rootdir = \"test_images/\"\n",
    "os.listdir(rootdir)"
   ]
  },
  {
   "cell_type": "code",
   "execution_count": null,
   "metadata": {
    "collapsed": false,
    "deletable": true,
    "editable": true,
    "jupyter": {
     "outputs_hidden": false
    }
   },
   "outputs": [],
   "source": [
    "#reading in an image\n",
    "image = mpimg.imread('test_images/solidWhiteCurve.jpg')\n",
    "final_image = process_image(image)\n",
    "plt.imshow(final_image) # if you wanted to show a single color channel image called 'gray', for example, call as plt.imshow(gray, cmap='gray')\n",
    "\n",
    "plt.savefig('processed_images/lane_on_solidWhiteCurve.png')\n",
    "plt.show()"
   ]
  },
  {
   "cell_type": "code",
   "execution_count": null,
   "metadata": {
    "collapsed": false,
    "deletable": true,
    "editable": true,
    "jupyter": {
     "outputs_hidden": false
    }
   },
   "outputs": [],
   "source": [
    "#reading in an image\n",
    "image = mpimg.imread('test_images/solidWhiteRight.jpg')\n",
    "final_image = process_image(image)\n",
    "plt.imshow(final_image) # if you wanted to show a single color channel image called 'gray', for example, call as plt.imshow(gray, cmap='gray')\n",
    "\n",
    "plt.savefig('processed_images/lane_on_solidWhiteRight.png')\n",
    "plt.show()"
   ]
  },
  {
   "cell_type": "code",
   "execution_count": null,
   "metadata": {
    "collapsed": false,
    "deletable": true,
    "editable": true,
    "jupyter": {
     "outputs_hidden": false
    }
   },
   "outputs": [],
   "source": [
    "#reading in an image\n",
    "image = mpimg.imread('test_images/solidYellowCurve.jpg')\n",
    "final_image = process_image(image)\n",
    "plt.imshow(final_image) # if you wanted to show a single color channel image called 'gray', for example, call as plt.imshow(gray, cmap='gray')\n",
    "\n",
    "plt.savefig('processed_images/lane_on_solidYellowCurve.png')\n",
    "plt.show()"
   ]
  },
  {
   "cell_type": "code",
   "execution_count": null,
   "metadata": {
    "collapsed": false,
    "deletable": true,
    "editable": true,
    "jupyter": {
     "outputs_hidden": false
    }
   },
   "outputs": [],
   "source": [
    "#reading in an image\n",
    "image = mpimg.imread('test_images/solidYellowLeft.jpg')\n",
    "final_image = process_image(image)\n",
    "plt.imshow(final_image) # if you wanted to show a single color channel image called 'gray', for example, call as plt.imshow(gray, cmap='gray')\n",
    "\n",
    "plt.savefig('processed_images/lane_on_solidYellowLeft.png')\n",
    "plt.show()"
   ]
  }
 ],
 "metadata": {
  "kernelspec": {
   "display_name": "Python 3 (ipykernel)",
   "language": "python",
   "name": "python3"
  },
  "language_info": {
   "codemirror_mode": {
    "name": "ipython",
    "version": 3
   },
   "file_extension": ".py",
   "mimetype": "text/x-python",
   "name": "python",
   "nbconvert_exporter": "python",
   "pygments_lexer": "ipython3",
   "version": "3.12.2"
  },
  "widgets": {
   "state": {},
   "version": "1.1.2"
  }
 },
 "nbformat": 4,
 "nbformat_minor": 4
}
