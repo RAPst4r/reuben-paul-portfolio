{
 "cells": [
  {
   "cell_type": "markdown",
   "id": "cdb96e17-6549-4fe2-902c-484012f233b3",
   "metadata": {},
   "source": [
    "## VideoTranscriber \n",
    "#### Purpose: When you don't have time to sit down and watch a whole video (lecture) and you need to be able to transcribe it so you can get the text fast and summarize it\n",
    "## Creator: Reuben Paul"
   ]
  },
  {
   "cell_type": "markdown",
   "id": "db60684e-f18b-4aee-aac5-6609eb04dd11",
   "metadata": {},
   "source": [
    "## Installing Required Libraries\n",
    "#### whisper - OpenAI Speech Recognition API model to transcribe audio and video files into Text\n",
    "#### ffmpeg - Open source library for handling audio, video and multimedia streams"
   ]
  },
  {
   "cell_type": "code",
   "execution_count": 1,
   "id": "80d5586f-4ac1-469c-a127-8e9f4633ca21",
   "metadata": {},
   "outputs": [
    {
     "name": "stdout",
     "output_type": "stream",
     "text": [
      "Collecting git+https://github.com/openai/whisper.git\n",
      "  Cloning https://github.com/openai/whisper.git to /private/var/folders/c0/vt_srkbj5mngs30rfshh9vbr0000gn/T/pip-req-build-n0_1_bbb\n",
      "  Running command git clone --quiet https://github.com/openai/whisper.git /private/var/folders/c0/vt_srkbj5mngs30rfshh9vbr0000gn/T/pip-req-build-n0_1_bbb\n",
      "  Resolved https://github.com/openai/whisper.git to commit 517a43ecd132a2089d85f4ebc044728a71d49f6e\n",
      "  Installing build dependencies ... \u001b[?25ldone\n",
      "\u001b[?25h  Getting requirements to build wheel ... \u001b[?25ldone\n",
      "\u001b[?25h  Preparing metadata (pyproject.toml) ... \u001b[?25ldone\n",
      "\u001b[?25hRequirement already satisfied: ffmpeg in /opt/anaconda3/lib/python3.12/site-packages (1.4)\n",
      "Requirement already satisfied: more-itertools in /opt/anaconda3/lib/python3.12/site-packages (from openai-whisper==20240930) (10.1.0)\n",
      "Requirement already satisfied: numba in /opt/anaconda3/lib/python3.12/site-packages (from openai-whisper==20240930) (0.59.1)\n",
      "Requirement already satisfied: numpy in /opt/anaconda3/lib/python3.12/site-packages (from openai-whisper==20240930) (1.26.4)\n",
      "Requirement already satisfied: tiktoken in /opt/anaconda3/lib/python3.12/site-packages (from openai-whisper==20240930) (0.8.0)\n",
      "Requirement already satisfied: torch in /opt/anaconda3/lib/python3.12/site-packages (from openai-whisper==20240930) (2.4.1)\n",
      "Requirement already satisfied: tqdm in /opt/anaconda3/lib/python3.12/site-packages (from openai-whisper==20240930) (4.66.4)\n",
      "Requirement already satisfied: llvmlite<0.43,>=0.42.0dev0 in /opt/anaconda3/lib/python3.12/site-packages (from numba->openai-whisper==20240930) (0.42.0)\n",
      "Requirement already satisfied: regex>=2022.1.18 in /opt/anaconda3/lib/python3.12/site-packages (from tiktoken->openai-whisper==20240930) (2023.10.3)\n",
      "Requirement already satisfied: requests>=2.26.0 in /opt/anaconda3/lib/python3.12/site-packages (from tiktoken->openai-whisper==20240930) (2.32.2)\n",
      "Requirement already satisfied: filelock in /opt/anaconda3/lib/python3.12/site-packages (from torch->openai-whisper==20240930) (3.13.1)\n",
      "Requirement already satisfied: typing-extensions>=4.8.0 in /opt/anaconda3/lib/python3.12/site-packages (from torch->openai-whisper==20240930) (4.11.0)\n",
      "Requirement already satisfied: sympy in /opt/anaconda3/lib/python3.12/site-packages (from torch->openai-whisper==20240930) (1.12)\n",
      "Requirement already satisfied: networkx in /opt/anaconda3/lib/python3.12/site-packages (from torch->openai-whisper==20240930) (3.2.1)\n",
      "Requirement already satisfied: jinja2 in /opt/anaconda3/lib/python3.12/site-packages (from torch->openai-whisper==20240930) (3.1.4)\n",
      "Requirement already satisfied: fsspec in /opt/anaconda3/lib/python3.12/site-packages (from torch->openai-whisper==20240930) (2024.3.1)\n",
      "Requirement already satisfied: setuptools in /opt/anaconda3/lib/python3.12/site-packages (from torch->openai-whisper==20240930) (69.5.1)\n",
      "Requirement already satisfied: charset-normalizer<4,>=2 in /opt/anaconda3/lib/python3.12/site-packages (from requests>=2.26.0->tiktoken->openai-whisper==20240930) (2.0.4)\n",
      "Requirement already satisfied: idna<4,>=2.5 in /opt/anaconda3/lib/python3.12/site-packages (from requests>=2.26.0->tiktoken->openai-whisper==20240930) (3.7)\n",
      "Requirement already satisfied: urllib3<3,>=1.21.1 in /opt/anaconda3/lib/python3.12/site-packages (from requests>=2.26.0->tiktoken->openai-whisper==20240930) (2.2.2)\n",
      "Requirement already satisfied: certifi>=2017.4.17 in /opt/anaconda3/lib/python3.12/site-packages (from requests>=2.26.0->tiktoken->openai-whisper==20240930) (2024.8.30)\n",
      "Requirement already satisfied: MarkupSafe>=2.0 in /opt/anaconda3/lib/python3.12/site-packages (from jinja2->torch->openai-whisper==20240930) (2.1.3)\n",
      "Requirement already satisfied: mpmath>=0.19 in /opt/anaconda3/lib/python3.12/site-packages (from sympy->torch->openai-whisper==20240930) (1.3.0)\n"
     ]
    }
   ],
   "source": [
    "!pip install git+https://github.com/openai/whisper.git ffmpeg"
   ]
  },
  {
   "cell_type": "markdown",
   "id": "66e11094-68f7-466f-97b9-cac91248abfe",
   "metadata": {},
   "source": [
    "#### Ensuring that the ffmpeg file is installed correctly!"
   ]
  },
  {
   "cell_type": "code",
   "execution_count": 2,
   "id": "293baf82-9bc2-4748-9bfe-3f76c89a301a",
   "metadata": {},
   "outputs": [
    {
     "name": "stdout",
     "output_type": "stream",
     "text": [
      "Name: ffmpeg\n",
      "Version: 1.4\n",
      "Summary: ffmpeg python package url [https://github.com/jiashaokun/ffmpeg]\n",
      "Home-page: https://github.com/jiashaokun/ffmpeg\n",
      "Author: SkeyJIA\n",
      "Author-email: 363604236@qq.com\n",
      "License: MIT Licence\n",
      "Location: /opt/anaconda3/lib/python3.12/site-packages\n",
      "Requires: \n",
      "Required-by: \n"
     ]
    }
   ],
   "source": [
    "!pip show ffmpeg\n",
    "#https://github.com/openai/whisper/discussions/1439\n",
    "#uncomment the line below if you are having issues with Mac\n",
    "#!ffmpeg -nostdin -i -f s16le -ac 1 -acodec pcm_s16le -ar 16000 - > /dev/null"
   ]
  },
  {
   "cell_type": "markdown",
   "id": "e2d9648f-4ff7-4a77-883e-b06a1b4ab6b7",
   "metadata": {},
   "source": [
    "### Calling the Whisper API to transcribe the video file (in this case, the MoonLanding.mov file is provided)\n",
    "#### You can also provide your Professor's files in the InputVideos Directory to transcribe it :-)\n",
    "### One small step for Reuben, One giant leap for Fast Homeworks"
   ]
  },
  {
   "cell_type": "code",
   "execution_count": 3,
   "id": "b56b83db-6ba4-4770-812f-e8c4eaf7ab62",
   "metadata": {},
   "outputs": [
    {
     "name": "stdout",
     "output_type": "stream",
     "text": [
      "/opt/anaconda3/lib/python3.12/site-packages/whisper/__init__.py:150: FutureWarning: You are using `torch.load` with `weights_only=False` (the current default value), which uses the default pickle module implicitly. It is possible to construct malicious pickle data which will execute arbitrary code during unpickling (See https://github.com/pytorch/pytorch/blob/main/SECURITY.md#untrusted-models for more details). In a future release, the default value for `weights_only` will be flipped to `True`. This limits the functions that could be executed during unpickling. Arbitrary objects will no longer be allowed to be loaded via this mode unless they are explicitly allowlisted by the user via `torch.serialization.add_safe_globals`. We recommend you start setting `weights_only=True` for any use case where you don't have full control of the loaded file. Please open an issue on GitHub for any issues related to this experimental feature.\n",
      "  checkpoint = torch.load(fp, map_location=device)\n",
      "Detecting language using up to the first 30 seconds. Use `--language` to specify the language\n",
      "Detected language: English\n",
      "[00:00.000 --> 00:24.580]  I'm at the foot of the ladder. The LAM footbeds are only depressed in the surface about one or two inches, although the surface appears to be very, very fine-grained as you get close to it. It's almost like a powder. Ground mass is very fine.\n",
      "[00:30.000 --> 00:38.240]  Yeah, I'm going to step off the LAM now.\n",
      "[00:47.520 --> 00:55.280]  That's one small step for man, one giant leap for mankind.\n",
      "[01:00.000 --> 01:01.520]  Yeah, I'm going to step off the LAM.\n"
     ]
    }
   ],
   "source": [
    "!whisper ./InputVideos/MoonLanding.mov --fp16 False"
   ]
  },
  {
   "cell_type": "code",
   "execution_count": null,
   "id": "b6d3f044-58a0-4f31-b8e8-c35c35306052",
   "metadata": {},
   "outputs": [],
   "source": []
  }
 ],
 "metadata": {
  "kernelspec": {
   "display_name": "Python 3 (ipykernel)",
   "language": "python",
   "name": "python3"
  },
  "language_info": {
   "codemirror_mode": {
    "name": "ipython",
    "version": 3
   },
   "file_extension": ".py",
   "mimetype": "text/x-python",
   "name": "python",
   "nbconvert_exporter": "python",
   "pygments_lexer": "ipython3",
   "version": "3.12.2"
  }
 },
 "nbformat": 4,
 "nbformat_minor": 5
}
