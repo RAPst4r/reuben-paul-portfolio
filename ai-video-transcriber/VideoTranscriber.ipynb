{
 "cells": [
  {
   "cell_type": "code",
   "execution_count": 1,
   "id": "87f7bcbf-dc39-465f-8c63-c2102793c51d",
   "metadata": {},
   "outputs": [
    {
     "name": "stdout",
     "output_type": "stream",
     "text": [
      "Collecting git+https://github.com/openai/whisper.git\n",
      "  Cloning https://github.com/openai/whisper.git to /private/var/folders/c0/vt_srkbj5mngs30rfshh9vbr0000gn/T/pip-req-build-jdjn68in\n",
      "  Running command git clone --quiet https://github.com/openai/whisper.git /private/var/folders/c0/vt_srkbj5mngs30rfshh9vbr0000gn/T/pip-req-build-jdjn68in\n",
      "  Resolved https://github.com/openai/whisper.git to commit ba3f3cd54b0e5b8ce1ab3de13e32122d0d5f98ab\n",
      "  Installing build dependencies ... \u001b[?25ldone\n",
      "\u001b[?25h  Getting requirements to build wheel ... \u001b[?25ldone\n",
      "\u001b[?25h  Installing backend dependencies ... \u001b[?25ldone\n",
      "\u001b[?25h  Preparing metadata (pyproject.toml) ... \u001b[?25ldone\n",
      "\u001b[?25hRequirement already satisfied: numba in /Users/manopaul/anaconda3/lib/python3.11/site-packages (from openai-whisper==20231117) (0.57.1)\n",
      "Requirement already satisfied: numpy in /Users/manopaul/anaconda3/lib/python3.11/site-packages (from openai-whisper==20231117) (1.24.3)\n",
      "Requirement already satisfied: torch in /Users/manopaul/anaconda3/lib/python3.11/site-packages (from openai-whisper==20231117) (2.2.0)\n",
      "Requirement already satisfied: tqdm in /Users/manopaul/anaconda3/lib/python3.11/site-packages (from openai-whisper==20231117) (4.65.0)\n",
      "Requirement already satisfied: more-itertools in /Users/manopaul/anaconda3/lib/python3.11/site-packages (from openai-whisper==20231117) (8.12.0)\n",
      "Requirement already satisfied: tiktoken in /Users/manopaul/anaconda3/lib/python3.11/site-packages (from openai-whisper==20231117) (0.6.0)\n",
      "Requirement already satisfied: llvmlite<0.41,>=0.40.0dev0 in /Users/manopaul/anaconda3/lib/python3.11/site-packages (from numba->openai-whisper==20231117) (0.40.0)\n",
      "Requirement already satisfied: regex>=2022.1.18 in /Users/manopaul/anaconda3/lib/python3.11/site-packages (from tiktoken->openai-whisper==20231117) (2022.7.9)\n",
      "Requirement already satisfied: requests>=2.26.0 in /Users/manopaul/anaconda3/lib/python3.11/site-packages (from tiktoken->openai-whisper==20231117) (2.31.0)\n",
      "Requirement already satisfied: filelock in /Users/manopaul/anaconda3/lib/python3.11/site-packages (from torch->openai-whisper==20231117) (3.9.0)\n",
      "Requirement already satisfied: typing-extensions>=4.8.0 in /Users/manopaul/anaconda3/lib/python3.11/site-packages (from torch->openai-whisper==20231117) (4.9.0)\n",
      "Requirement already satisfied: sympy in /Users/manopaul/anaconda3/lib/python3.11/site-packages (from torch->openai-whisper==20231117) (1.11.1)\n",
      "Requirement already satisfied: networkx in /Users/manopaul/anaconda3/lib/python3.11/site-packages (from torch->openai-whisper==20231117) (3.1)\n",
      "Requirement already satisfied: jinja2 in /Users/manopaul/anaconda3/lib/python3.11/site-packages (from torch->openai-whisper==20231117) (3.1.2)\n",
      "Requirement already satisfied: fsspec in /Users/manopaul/anaconda3/lib/python3.11/site-packages (from torch->openai-whisper==20231117) (2023.4.0)\n",
      "Requirement already satisfied: charset-normalizer<4,>=2 in /Users/manopaul/anaconda3/lib/python3.11/site-packages (from requests>=2.26.0->tiktoken->openai-whisper==20231117) (2.0.4)\n",
      "Requirement already satisfied: idna<4,>=2.5 in /Users/manopaul/anaconda3/lib/python3.11/site-packages (from requests>=2.26.0->tiktoken->openai-whisper==20231117) (3.4)\n",
      "Requirement already satisfied: urllib3<3,>=1.21.1 in /Users/manopaul/anaconda3/lib/python3.11/site-packages (from requests>=2.26.0->tiktoken->openai-whisper==20231117) (2.2.1)\n",
      "Requirement already satisfied: certifi>=2017.4.17 in /Users/manopaul/anaconda3/lib/python3.11/site-packages (from requests>=2.26.0->tiktoken->openai-whisper==20231117) (2024.2.2)\n",
      "Requirement already satisfied: MarkupSafe>=2.0 in /Users/manopaul/anaconda3/lib/python3.11/site-packages (from jinja2->torch->openai-whisper==20231117) (2.1.1)\n",
      "Requirement already satisfied: mpmath>=0.19 in /Users/manopaul/anaconda3/lib/python3.11/site-packages (from sympy->torch->openai-whisper==20231117) (1.3.0)\n",
      "Building wheels for collected packages: openai-whisper\n",
      "  Building wheel for openai-whisper (pyproject.toml) ... \u001b[?25ldone\n",
      "\u001b[?25h  Created wheel for openai-whisper: filename=openai_whisper-20231117-py3-none-any.whl size=802825 sha256=d9a6b90689b53d0b4a2c5c38f4a6e2029b51a042a2d573854caabb9e5768676a\n",
      "  Stored in directory: /private/var/folders/c0/vt_srkbj5mngs30rfshh9vbr0000gn/T/pip-ephem-wheel-cache-r5sk180g/wheels/1f/1d/98/9583695e6695a6ac0ad42d87511097dce5ba486647dbfecb0e\n",
      "Successfully built openai-whisper\n",
      "Installing collected packages: openai-whisper\n",
      "Successfully installed openai-whisper-20231117\n"
     ]
    }
   ],
   "source": [
    "!pip install git+https://github.com/openai/whisper.git"
   ]
  },
  {
   "cell_type": "code",
   "execution_count": 2,
   "id": "7c3d550a-ff68-401a-8107-2a4d2e6c99dd",
   "metadata": {},
   "outputs": [
    {
     "name": "stdout",
     "output_type": "stream",
     "text": [
      "Requirement already satisfied: qiskit-terra in /Users/manopaul/.local/lib/python3.11/site-packages (0.25.1)\n",
      "Requirement already satisfied: rustworkx>=0.13.0 in /Users/manopaul/.local/lib/python3.11/site-packages (from qiskit-terra) (0.13.1)\n",
      "Requirement already satisfied: numpy>=1.17 in /Users/manopaul/anaconda3/lib/python3.11/site-packages (from qiskit-terra) (1.24.3)\n",
      "Requirement already satisfied: ply>=3.10 in /Users/manopaul/anaconda3/lib/python3.11/site-packages (from qiskit-terra) (3.11)\n",
      "Requirement already satisfied: psutil>=5 in /Users/manopaul/anaconda3/lib/python3.11/site-packages (from qiskit-terra) (5.9.0)\n",
      "Requirement already satisfied: scipy>=1.5 in /Users/manopaul/anaconda3/lib/python3.11/site-packages (from qiskit-terra) (1.11.1)\n",
      "Requirement already satisfied: sympy>=1.3 in /Users/manopaul/anaconda3/lib/python3.11/site-packages (from qiskit-terra) (1.11.1)\n",
      "Requirement already satisfied: dill>=0.3 in /Users/manopaul/anaconda3/lib/python3.11/site-packages (from qiskit-terra) (0.3.6)\n",
      "Requirement already satisfied: python-dateutil>=2.8.0 in /Users/manopaul/anaconda3/lib/python3.11/site-packages (from qiskit-terra) (2.8.2)\n",
      "Requirement already satisfied: stevedore>=3.0.0 in /Users/manopaul/.local/lib/python3.11/site-packages (from qiskit-terra) (5.1.0)\n",
      "Requirement already satisfied: symengine<0.10,>=0.9 in /Users/manopaul/.local/lib/python3.11/site-packages (from qiskit-terra) (0.9.2)\n",
      "Requirement already satisfied: six>=1.5 in /Users/manopaul/anaconda3/lib/python3.11/site-packages (from python-dateutil>=2.8.0->qiskit-terra) (1.16.0)\n",
      "Requirement already satisfied: pbr!=2.1.0,>=2.0.0 in /Users/manopaul/.local/lib/python3.11/site-packages (from stevedore>=3.0.0->qiskit-terra) (5.11.1)\n",
      "Requirement already satisfied: mpmath>=0.19 in /Users/manopaul/anaconda3/lib/python3.11/site-packages (from sympy>=1.3->qiskit-terra) (1.3.0)\n"
     ]
    }
   ],
   "source": [
    "!pip install qiskit-terra"
   ]
  },
  {
   "cell_type": "code",
   "execution_count": 3,
   "id": "229c5972-7b4a-4f51-9189-47443dd12084",
   "metadata": {},
   "outputs": [
    {
     "name": "stdout",
     "output_type": "stream",
     "text": [
      "Collecting git+https://github.com/openai/whisper.git\n",
      "  Cloning https://github.com/openai/whisper.git to /private/var/folders/c0/vt_srkbj5mngs30rfshh9vbr0000gn/T/pip-req-build-1u52paiw\n",
      "  Running command git clone --quiet https://github.com/openai/whisper.git /private/var/folders/c0/vt_srkbj5mngs30rfshh9vbr0000gn/T/pip-req-build-1u52paiw\n",
      "  Resolved https://github.com/openai/whisper.git to commit ba3f3cd54b0e5b8ce1ab3de13e32122d0d5f98ab\n",
      "  Installing build dependencies ... \u001b[?25ldone\n",
      "\u001b[?25h  Getting requirements to build wheel ... \u001b[?25ldone\n",
      "\u001b[?25h  Installing backend dependencies ... \u001b[?25ldone\n",
      "\u001b[?25h  Preparing metadata (pyproject.toml) ... \u001b[?25ldone\n",
      "\u001b[?25hRequirement already satisfied: numba in /Users/manopaul/anaconda3/lib/python3.11/site-packages (from openai-whisper==20231117) (0.57.1)\n",
      "Requirement already satisfied: numpy in /Users/manopaul/anaconda3/lib/python3.11/site-packages (from openai-whisper==20231117) (1.24.3)\n",
      "Requirement already satisfied: torch in /Users/manopaul/anaconda3/lib/python3.11/site-packages (from openai-whisper==20231117) (2.2.0)\n",
      "Requirement already satisfied: tqdm in /Users/manopaul/anaconda3/lib/python3.11/site-packages (from openai-whisper==20231117) (4.65.0)\n",
      "Requirement already satisfied: more-itertools in /Users/manopaul/anaconda3/lib/python3.11/site-packages (from openai-whisper==20231117) (8.12.0)\n",
      "Requirement already satisfied: tiktoken in /Users/manopaul/anaconda3/lib/python3.11/site-packages (from openai-whisper==20231117) (0.6.0)\n",
      "Requirement already satisfied: llvmlite<0.41,>=0.40.0dev0 in /Users/manopaul/anaconda3/lib/python3.11/site-packages (from numba->openai-whisper==20231117) (0.40.0)\n",
      "Requirement already satisfied: regex>=2022.1.18 in /Users/manopaul/anaconda3/lib/python3.11/site-packages (from tiktoken->openai-whisper==20231117) (2022.7.9)\n",
      "Requirement already satisfied: requests>=2.26.0 in /Users/manopaul/anaconda3/lib/python3.11/site-packages (from tiktoken->openai-whisper==20231117) (2.31.0)\n",
      "Requirement already satisfied: filelock in /Users/manopaul/anaconda3/lib/python3.11/site-packages (from torch->openai-whisper==20231117) (3.9.0)\n",
      "Requirement already satisfied: typing-extensions>=4.8.0 in /Users/manopaul/anaconda3/lib/python3.11/site-packages (from torch->openai-whisper==20231117) (4.9.0)\n",
      "Requirement already satisfied: sympy in /Users/manopaul/anaconda3/lib/python3.11/site-packages (from torch->openai-whisper==20231117) (1.11.1)\n",
      "Requirement already satisfied: networkx in /Users/manopaul/anaconda3/lib/python3.11/site-packages (from torch->openai-whisper==20231117) (3.1)\n",
      "Requirement already satisfied: jinja2 in /Users/manopaul/anaconda3/lib/python3.11/site-packages (from torch->openai-whisper==20231117) (3.1.2)\n",
      "Requirement already satisfied: fsspec in /Users/manopaul/anaconda3/lib/python3.11/site-packages (from torch->openai-whisper==20231117) (2023.4.0)\n",
      "Requirement already satisfied: charset-normalizer<4,>=2 in /Users/manopaul/anaconda3/lib/python3.11/site-packages (from requests>=2.26.0->tiktoken->openai-whisper==20231117) (2.0.4)\n",
      "Requirement already satisfied: idna<4,>=2.5 in /Users/manopaul/anaconda3/lib/python3.11/site-packages (from requests>=2.26.0->tiktoken->openai-whisper==20231117) (3.4)\n",
      "Requirement already satisfied: urllib3<3,>=1.21.1 in /Users/manopaul/anaconda3/lib/python3.11/site-packages (from requests>=2.26.0->tiktoken->openai-whisper==20231117) (2.2.1)\n",
      "Requirement already satisfied: certifi>=2017.4.17 in /Users/manopaul/anaconda3/lib/python3.11/site-packages (from requests>=2.26.0->tiktoken->openai-whisper==20231117) (2024.2.2)\n",
      "Requirement already satisfied: MarkupSafe>=2.0 in /Users/manopaul/anaconda3/lib/python3.11/site-packages (from jinja2->torch->openai-whisper==20231117) (2.1.1)\n",
      "Requirement already satisfied: mpmath>=0.19 in /Users/manopaul/anaconda3/lib/python3.11/site-packages (from sympy->torch->openai-whisper==20231117) (1.3.0)\n"
     ]
    }
   ],
   "source": [
    "!pip install git+https://github.com/openai/whisper.git"
   ]
  },
  {
   "cell_type": "code",
   "execution_count": 4,
   "id": "99c39f37-9ee0-4eff-b611-6e1cc3434c7b",
   "metadata": {},
   "outputs": [
    {
     "name": "stdout",
     "output_type": "stream",
     "text": [
      "Requirement already satisfied: ffmpeg in /Users/manopaul/anaconda3/lib/python3.11/site-packages (1.4)\n"
     ]
    }
   ],
   "source": [
    "!pip install ffmpeg"
   ]
  },
  {
   "cell_type": "code",
   "execution_count": 5,
   "id": "293baf82-9bc2-4748-9bfe-3f76c89a301a",
   "metadata": {},
   "outputs": [
    {
     "name": "stdout",
     "output_type": "stream",
     "text": [
      "Name: ffmpeg\n",
      "Version: 1.4\n",
      "Summary: ffmpeg python package url [https://github.com/jiashaokun/ffmpeg]\n",
      "Home-page: https://github.com/jiashaokun/ffmpeg\n",
      "Author: SkeyJIA\n",
      "Author-email: 363604236@qq.com\n",
      "License: MIT Licence\n",
      "Location: /Users/manopaul/anaconda3/lib/python3.11/site-packages\n",
      "Requires: \n",
      "Required-by: \n"
     ]
    }
   ],
   "source": [
    "!pip show ffmpeg"
   ]
  },
  {
   "cell_type": "code",
   "execution_count": 1,
   "id": "61591d5f-17ce-4334-8f43-fa49a96cb8ef",
   "metadata": {},
   "outputs": [
    {
     "name": "stdout",
     "output_type": "stream",
     "text": [
      "ffmpeg version 4.4.4 Copyright (c) 2000-2023 the FFmpeg developers\r\n",
      "  built with Apple clang version 15.0.0 (clang-1500.1.0.2.5)\r\n",
      "  configuration: --prefix='/opt/homebrew/Cellar/ffmpeg@4/4.4.4_4' --enable-shared --enable-pthreads --enable-version3 --cc=clang --host-cflags= --host-ldflags= --enable-avresample --enable-ffplay --enable-gnutls --enable-gpl --enable-libaom --enable-libbluray --enable-libdav1d --enable-libmp3lame --enable-libopus --enable-librav1e --enable-librist --enable-librubberband --enable-libsnappy --enable-libsrt --enable-libtesseract --enable-libtheora --enable-libvidstab --enable-libvorbis --enable-libvpx --enable-libwebp --enable-libx264 --enable-libx265 --enable-libxml2 --enable-libxvid --enable-lzma --enable-libfontconfig --enable-libfreetype --enable-frei0r --enable-libass --enable-libopencore-amrnb --enable-libopencore-amrwb --enable-libopenjpeg --enable-libspeex --enable-libsoxr --enable-libzmq --enable-libzimg --disable-libjack --disable-indev=jack --enable-videotoolbox\r\n",
      "  libavutil      56. 70.100 / 56. 70.100\r\n",
      "  libavcodec     58.134.100 / 58.134.100\r\n",
      "  libavformat    58. 76.100 / 58. 76.100\r\n",
      "  libavdevice    58. 13.100 / 58. 13.100\r\n",
      "  libavfilter     7.110.100 /  7.110.100\r\n",
      "  libavresample   4.  0.  0 /  4.  0.  0\r\n",
      "  libswscale      5.  9.100 /  5.  9.100\r\n",
      "  libswresample   3.  9.100 /  3.  9.100\r\n",
      "  libpostproc    55.  9.100 / 55.  9.100\r\n",
      "\u001b[1;31mEspoused vs Enacted Values.mp4: No such file or directory\r\n",
      "\u001b[0m"
     ]
    }
   ],
   "source": [
    "#https://github.com/openai/whisper/discussions/1439\n",
    "!ffmpeg -nostdin -i  -f s16le -ac 1 -acodec pcm_s16le -ar 16000 - > /dev/null"
   ]
  },
  {
   "cell_type": "code",
   "execution_count": 7,
   "id": "afeda732-56fe-4713-bd97-6878c05a1d94",
   "metadata": {},
   "outputs": [
    {
     "name": "stdout",
     "output_type": "stream",
     "text": [
      "100%|█████████████████████████████████████| 1.42G/1.42G [00:39<00:00, 38.9MiB/s]\n",
      "[00:00.000 --> 00:06.000]  record button. Thank you so much. Hi, everybody. Well, thank you so much for joining us today.\n",
      "[00:06.000 --> 00:10.900]  I am Megan Erisman with McCombs Plus, and we provide coaching, manage plus projects\n",
      "[00:10.900 --> 00:15.640]  and offer leadership workshops and webinars, just like this one. This webinar is part of\n",
      "[00:15.640 --> 00:20.480]  our monthly webinar series sponsored by McCombs Plus. I encourage you all to check out our\n",
      "[00:20.480 --> 00:26.120]  Canvas page where you'll be able to find all future workshop and webinar dates and details,\n",
      "[00:26.120 --> 00:29.920]  and you'll need the links to register. This session is being recorded and will be posted\n",
      "[00:29.920 --> 00:34.600]  to the Canvas page following this session. You'll receive a link to the recording and\n",
      "[00:34.600 --> 00:39.280]  email following this session that will contain an evaluation survey so that you may provide\n",
      "[00:39.280 --> 00:44.120]  your thoughts on today's webinar, but also any future webinars that you would like to\n",
      "[00:44.120 --> 00:48.760]  see. I really appreciate all of your feedback. I would really love to get your thoughts on\n",
      "[00:48.760 --> 00:54.200]  how we could best provide various topics to our students. Today, we are pleased to welcome\n",
      "[00:54.200 --> 00:58.920]  our wonderful McCombs Plus coach, Jacob Ford, as he presents today's webinar, Espouse vs.\n",
      "[00:58.920 --> 01:04.840]  Enacted Values. Dr. Jacob Ford is an academic who uses communication theory and research to\n",
      "[01:04.840 --> 01:09.720]  challenge students and business leaders to improve their communication, confidence and leadership.\n",
      "[01:10.280 --> 01:14.520]  He has taught business communication courses at the university level for almost 10 years,\n",
      "[01:14.520 --> 01:18.920]  where he has developed a keen eye for identifying the ways in which speakers can improve their\n",
      "[01:18.920 --> 01:24.440]  confidence, clarity and competence in communicating to a variety of audiences.\n",
      "[01:24.440 --> 01:29.080]  Dr. Ford is especially interested in how leaders might communicate more effectively\n",
      "[01:29.080 --> 01:33.960]  and how various approaches to leadership shape leaders' communication. He has published research\n",
      "[01:33.960 --> 01:38.360]  in the Journal of Business Communication and Corporate Communication that investigated\n",
      "[01:38.360 --> 01:43.800]  questions about how work context influenced organizational members' identification with\n",
      "[01:43.800 --> 01:48.280]  organizations. More recently, he has turned his attention to learning more about how groups make\n",
      "[01:48.600 --> 01:52.280]  decisions, provide effective feedback and communicate through conflicts. So,\n",
      "[01:52.280 --> 01:59.320]  please welcome Dr. Jacob Ford. Hi, thank you all for having me today. It's such an honor\n",
      "[01:59.320 --> 02:05.080]  to speak with you all, and I'm very excited to talk about this topic. I'm not sure if it's\n",
      "[02:05.080 --> 02:09.400]  one that's come up in any other classes, but we're going to take kind of a deep dive here\n",
      "[02:09.400 --> 02:15.960]  on this idea of organizational values and how that relates to developing, establishing positive\n",
      "[02:15.960 --> 02:23.880]  and helpful organizational cultures in our organizations. So, the impetus for this topic\n",
      "[02:23.880 --> 02:29.720]  kind of came across these and started from these two words, espoused and enacted values.\n",
      "[02:30.520 --> 02:35.400]  So, this came through some research I had been reading, some conversations with students and\n",
      "[02:35.400 --> 02:41.160]  colleagues, really examining kind of this tension that is inherent in a lot of organizations where\n",
      "[02:41.160 --> 02:46.120]  organizations want to have certain values and they state these values, these espoused values,\n",
      "[02:46.120 --> 02:51.880]  stated values, but then it's really difficult for these organizations to live out or enact these\n",
      "[02:51.880 --> 02:59.080]  values. And so, as leaders and future leaders in organizations, I think this topic is particularly\n",
      "[02:59.080 --> 03:05.080]  relevant for you all today as well. So, as you find yourselves managing teams and organizations\n",
      "[03:05.080 --> 03:10.600]  and departments and divisions, you'll have a significant impact on organizational cultures\n",
      "[03:10.680 --> 03:16.760]  and also their value system. So, today we'll actually dive deeper into organizational values\n",
      "[03:16.760 --> 03:22.280]  and look at their complexity. It's a lot more complex than just kind of simply brainstorming\n",
      "[03:22.280 --> 03:27.240]  or desiring certain values for your organization to have and making a list on the website. So,\n",
      "[03:27.240 --> 03:32.440]  today we're going to go a lot deeper into that. There's much more to developing organizations\n",
      "[03:32.440 --> 03:36.520]  culture, and I want you all to be effective leaders who understand the importance of kind\n",
      "[03:36.520 --> 03:42.040]  of aligning these stated values that we put on our websites and on our walls and our organizations,\n",
      "[03:42.040 --> 03:47.320]  but also with those that are kind of lived out by organizational members. That's my goal for today,\n",
      "[03:47.320 --> 03:52.680]  and I hope that is particularly helpful for you all. So, when we talk about organizational values,\n",
      "[03:52.680 --> 03:56.360]  we can't really separate this out from organizational culture. I'll refer to this\n",
      "[03:56.360 --> 04:00.840]  again later in the talk and something that's a common theme today that's difficult to tease\n",
      "[04:00.840 --> 04:06.280]  these two terms apart. Anytime we're talking about organizational culture, you know, this is\n",
      "[04:06.280 --> 04:10.280]  going to be something that's hard to define as well. It can be an ambiguous term or it's hard\n",
      "[04:10.280 --> 04:15.560]  to know exactly what creates an organization's culture, how it's maintained and established\n",
      "[04:15.560 --> 04:20.520]  over time. And so, in order to help with this challenge, I wanted to provide an image,\n",
      "[04:20.520 --> 04:25.080]  a metaphor, if you will, to look at this particular topic. So, believe it or not,\n",
      "[04:25.080 --> 04:30.920]  I'm not the first person to ever use an iceberg as a metaphor for a topic, but I think it applies\n",
      "[04:30.920 --> 04:36.360]  appropriately to what we're talking about discussing today. The iceberg, in our case today,\n",
      "[04:36.360 --> 04:42.760]  represents two aspects of organizational culture. And the first is going to be this idea of that\n",
      "[04:42.760 --> 04:47.960]  part of an organization's culture are those artifacts and behaviors that we see. And so,\n",
      "[04:47.960 --> 04:51.480]  these are most of the time what we're talking about organizational culture, we're talking about how\n",
      "[04:51.480 --> 04:56.360]  people are behaving, how people are communicating with one another, what stories we tell, what\n",
      "[04:57.000 --> 05:02.200]  logos we have, what image are we presenting. All of that falls under this category of artifacts\n",
      "[05:02.200 --> 05:08.120]  and behaviors, the things we can see. But really, the second part of the iceberg, the part underneath\n",
      "[05:08.920 --> 05:14.600]  that creates this culture are our values and basic assumptions. And so, that's where we're\n",
      "[05:14.600 --> 05:20.920]  going today is we're going to try to engage this deeper part of an organization's culture\n",
      "[05:20.920 --> 05:26.520]  that is represented by our values and basic assumptions. So, we can see evidence of our\n",
      "[05:26.520 --> 05:31.720]  culture through our behaviors and our different actions that we have in organizations, the stories\n",
      "[05:31.720 --> 05:37.480]  we tell, but we can trace each one of those artifacts and behaviors and heroes of our\n",
      "[05:37.480 --> 05:43.400]  organizations to some value, some moral, some basic assumption about life and how we should\n",
      "[05:43.400 --> 05:47.960]  get along in an organization. And so, today we're going to talk more about those values and those\n",
      "^C\n",
      "Traceback (most recent call last):\n",
      "  File \"/Users/manopaul/anaconda3/bin/whisper\", line 8, in <module>\n",
      "    sys.exit(cli())\n",
      "             ^^^^^\n",
      "  File \"/Users/manopaul/anaconda3/lib/python3.11/site-packages/whisper/transcribe.py\", line 597, in cli\n",
      "    result = transcribe(model, audio_path, temperature=temperature, **args)\n",
      "             ^^^^^^^^^^^^^^^^^^^^^^^^^^^^^^^^^^^^^^^^^^^^^^^^^^^^^^^^^^^^^^\n",
      "  File \"/Users/manopaul/anaconda3/lib/python3.11/site-packages/whisper/transcribe.py\", line 279, in transcribe\n",
      "    result: DecodingResult = decode_with_fallback(mel_segment)\n",
      "                             ^^^^^^^^^^^^^^^^^^^^^^^^^^^^^^^^^\n",
      "  File \"/Users/manopaul/anaconda3/lib/python3.11/site-packages/whisper/transcribe.py\", line 195, in decode_with_fallback\n",
      "    decode_result = model.decode(segment, options)\n",
      "                    ^^^^^^^^^^^^^^^^^^^^^^^^^^^^^^\n",
      "  File \"/Users/manopaul/anaconda3/lib/python3.11/site-packages/torch/utils/_contextlib.py\", line 115, in decorate_context\n",
      "    return func(*args, **kwargs)\n",
      "           ^^^^^^^^^^^^^^^^^^^^^\n",
      "  File \"/Users/manopaul/anaconda3/lib/python3.11/site-packages/whisper/decoding.py\", line 824, in decode\n",
      "    result = DecodingTask(model, options).run(mel)\n",
      "             ^^^^^^^^^^^^^^^^^^^^^^^^^^^^^^^^^^^^^\n",
      "  File \"/Users/manopaul/anaconda3/lib/python3.11/site-packages/torch/utils/_contextlib.py\", line 115, in decorate_context\n",
      "    return func(*args, **kwargs)\n",
      "           ^^^^^^^^^^^^^^^^^^^^^\n",
      "  File \"/Users/manopaul/anaconda3/lib/python3.11/site-packages/whisper/decoding.py\", line 737, in run\n",
      "    tokens, sum_logprobs, no_speech_probs = self._main_loop(audio_features, tokens)\n",
      "                                            ^^^^^^^^^^^^^^^^^^^^^^^^^^^^^^^^^^^^^^^\n",
      "  File \"/Users/manopaul/anaconda3/lib/python3.11/site-packages/whisper/decoding.py\", line 703, in _main_loop\n",
      "    tokens, completed = self.decoder.update(tokens, logits, sum_logprobs)\n",
      "                        ^^^^^^^^^^^^^^^^^^^^^^^^^^^^^^^^^^^^^^^^^^^^^^^^^\n",
      "  File \"/Users/manopaul/anaconda3/lib/python3.11/site-packages/whisper/decoding.py\", line 365, in update\n",
      "    self.inference.rearrange_kv_cache(source_indices)\n",
      "  File \"/Users/manopaul/anaconda3/lib/python3.11/site-packages/whisper/decoding.py\", line 176, in rearrange_kv_cache\n",
      "    self.kv_cache[module] = self.kv_cache[module][source_indices].detach()\n",
      "                            ^^^^^^^^^^^^^^^^^^^^^^^^^^^^^^^^^^^^^^^^^^^^^^\n",
      "KeyboardInterrupt\n"
     ]
    }
   ],
   "source": [
    "#!whisper Espoused\\ vs\\ Enacted\\ Values.mp4 --language English --model medium --fp16 False"
   ]
  },
  {
   "cell_type": "code",
   "execution_count": 8,
   "id": "b56b83db-6ba4-4770-812f-e8c4eaf7ab62",
   "metadata": {},
   "outputs": [
    {
     "name": "stdout",
     "output_type": "stream",
     "text": [
      "Detecting language using up to the first 30 seconds. Use `--language` to specify the language\n",
      "Detected language: English\n",
      "[00:00.000 --> 00:20.440]  what's that he too okay yeah are you using Ruben's bow staff what are you doing yeah cool yeah he's\n",
      "[00:20.440 --> 00:28.760]  trying to bow staff hey Ruben see he's trying to yeah so he saw you do that and he's trying to\n",
      "[00:28.760 --> 00:42.500]  oh he's doing he's doing sure sure yeah yeah yeah he's behind you be careful all right show him\n",
      "[00:42.500 --> 00:53.940]  give it to him let's see how he what he's doing now give give it to him let's see if\n",
      "[00:53.940 --> 01:02.780]  yeah I think he'll try to do it good job baby let's see it spin it spin it whoa\n",
      "[01:12.500 --> 01:21.300]  Ruben's a good brother he teaches him well good job baby you got to get your own bow\n",
      "[01:21.300 --> 01:26.700]  staff you got the other bigger bow staff and then you can teach him whoa you do what are you doing\n",
      "[01:26.700 --> 01:37.060]  little boy how old are you 13 months whoa whoa whoa good job sweet you tie you tie you tie\n",
      "[01:37.820 --> 01:50.740]  good check on Ruben yeah she's good yeah are you okay Ruben what happened to you come here\n",
      "[01:50.740 --> 01:51.740]  What are you doing to him?\n",
      "[01:51.740 --> 02:00.740]  He is coming behind you, ok.\n",
      "[02:00.740 --> 02:10.740]  He is watching everything.\n",
      "[02:10.740 --> 02:18.740]  Come here, come here.\n",
      "[02:18.740 --> 02:25.740]  Ruben, come back.\n",
      "[02:25.740 --> 02:28.740]  Ruben, come back.\n"
     ]
    }
   ],
   "source": [
    "!whisper BabyNinjas-Brothers.mov --fp16 False"
   ]
  },
  {
   "cell_type": "code",
   "execution_count": null,
   "id": "d2cf1dbf-2f4f-4659-84c7-3b2cf474c271",
   "metadata": {},
   "outputs": [],
   "source": [
    "import whisper\n",
    "model = whisper.load_model(\"medium.en\")\n",
    "out = model.transcribe()\n",
    "print(out)"
   ]
  }
 ],
 "metadata": {
  "kernelspec": {
   "display_name": "Python 3 (ipykernel)",
   "language": "python",
   "name": "python3"
  },
  "language_info": {
   "codemirror_mode": {
    "name": "ipython",
    "version": 3
   },
   "file_extension": ".py",
   "mimetype": "text/x-python",
   "name": "python",
   "nbconvert_exporter": "python",
   "pygments_lexer": "ipython3",
   "version": "3.11.5"
  }
 },
 "nbformat": 4,
 "nbformat_minor": 5
}
