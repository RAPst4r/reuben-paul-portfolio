{
 "cells": [
  {
   "cell_type": "code",
   "execution_count": null,
   "id": "63e34d4b",
   "metadata": {},
   "outputs": [],
   "source": [
    "# Fork from https://www.kaggle.com/code/habibmrad1983/habib-mrad-detection-malicious-url-using-ml-models/notebook\n",
    "# Decision Tree Example: https://machinelearninggeek.com/decision-tree-classification-in-python/\n",
    "# ML for cybersecurity: https://github.com/jivoi/awesome-ml-for-cybersecurity?tab=readme-ov-file#-datasets\n",
    "# https://www.datacamp.com/tutorial/decision-tree-classification-python "
   ]
  },
  {
   "cell_type": "markdown",
   "id": "1b397d12",
   "metadata": {},
   "source": [
    "## 1. Setup"
   ]
  },
  {
   "cell_type": "markdown",
   "id": "6c12611e",
   "metadata": {},
   "source": [
    "### 1.1 Initial Setup and Libraries/Dependencies"
   ]
  },
  {
   "cell_type": "code",
   "execution_count": null,
   "id": "dcec5588",
   "metadata": {},
   "outputs": [],
   "source": [
    "!pip install -r ./phishing_url_detector_requirements.txt\n",
    "#pandas\n",
    "#numpy\n",
    "#matplotlib\n",
    "#scikit-learn\n",
    "#tld\n",
    "#re101 - \n",
    "#seaborn - for data visualization\n",
    "#colorama - coloring \n",
    "#urllib3"
   ]
  },
  {
   "cell_type": "markdown",
   "id": "6f116023",
   "metadata": {},
   "source": [
    "### 1.2 Import Libraries"
   ]
  },
  {
   "cell_type": "code",
   "execution_count": null,
   "id": "d8374f1e",
   "metadata": {},
   "outputs": [],
   "source": [
    "# ML Data Processing libraries/modules\n",
    "import numpy as np\n",
    "import pandas as pd\n",
    "\n",
    "# ML Model libraries/modules\n",
    "from sklearn import tree\n",
    "from sklearn.model_selection import train_test_split\n",
    "from sklearn.tree import DecisionTreeClassifier\n",
    "from sklearn.ensemble import RandomForestClassifier, AdaBoostClassifier, ExtraTreesClassifier\n",
    "from sklearn.neighbors import KNeighborsClassifier\n",
    "from sklearn.linear_model import LogisticRegression, SGDClassifier #Stochastic Gradient Descent for Linear models (LogisticRegression, SVM)\n",
    "from sklearn.naive_bayes import GaussianNB\n",
    "from sklearn.metrics import confusion_matrix, classification_report, accuracy_score\n",
    "from sklearn.metrics import ConfusionMatrixDisplay\n",
    "from sklearn.metrics import RocCurveDisplay\n",
    "\n",
    "# URL or Text processing libraries\n",
    "import re # For regular expressions\n",
    "\n",
    "# Data Visualization \n",
    "import matplotlib.pyplot as plt\n",
    "import seaborn as sns\n",
    "from colorama import Fore #To color python outputs \n",
    "\n",
    "# URL libraries\n",
    "from urllib.parse import urlparse\n",
    "from tld import get_tld, is_tld"
   ]
  },
  {
   "cell_type": "markdown",
   "id": "8415c015",
   "metadata": {},
   "source": [
    "## 2. Data Load and Pre-processing"
   ]
  },
  {
   "cell_type": "markdown",
   "id": "2d36767e",
   "metadata": {},
   "source": [
    "### 2.1 Load Data"
   ]
  },
  {
   "cell_type": "code",
   "execution_count": null,
   "id": "83272292",
   "metadata": {},
   "outputs": [],
   "source": [
    "#Load the data into a dataframe (df) so it can be made ready for ML\n",
    "url_df = pd.read_csv('./phishing_url_data.csv')\n",
    "url_df.head(10)"
   ]
  },
  {
   "cell_type": "markdown",
   "id": "b35a5d9b",
   "metadata": {},
   "source": [
    "### Types of Cyber attacks\n",
    "\n",
    "#### Phishing\n",
    "Attemps to gather information and steal sensitive data such as usernames and passwords, bank account information, credit card numbers etc. It is a social engineering attack. \n",
    "\n",
    "#### Defacement\n",
    "Attempts to cause a denial of service by unauthorized alteration of the website pages. This can lead to evil twin websites that can be setup to perform additional pivoting attacks. \n",
    "\n",
    "#### Malware\n",
    "Attempts to install and infect MALicious softWARE (and hence the name Malware) that can lead to serious compromises. \n",
    "\n"
   ]
  },
  {
   "cell_type": "markdown",
   "id": "48b5ee37",
   "metadata": {},
   "source": [
    "### 2.2 Meta Data information"
   ]
  },
  {
   "cell_type": "code",
   "execution_count": null,
   "id": "3804a2ec",
   "metadata": {},
   "outputs": [],
   "source": [
    "# Retrieve meta data about the dataframe\n",
    "# This will provide information in terms of the data, the type of data, number of data entries, \n",
    "# and also the memory that is use\n",
    "url_df.info()"
   ]
  },
  {
   "cell_type": "markdown",
   "id": "b119eb66",
   "metadata": {},
   "source": [
    "## 3. Data Pre-processing"
   ]
  },
  {
   "cell_type": "markdown",
   "id": "ef228538",
   "metadata": {},
   "source": [
    "### 3.1 Checking for Null or Not a Number (NaN) values"
   ]
  },
  {
   "cell_type": "code",
   "execution_count": null,
   "id": "fa5fd66c",
   "metadata": {},
   "outputs": [],
   "source": [
    "url_df.isnull().sum()"
   ]
  },
  {
   "cell_type": "markdown",
   "id": "a5848bb7",
   "metadata": {},
   "source": [
    "### 3.2 URLs by type of cyber attack"
   ]
  },
  {
   "cell_type": "code",
   "execution_count": null,
   "id": "46d19a5c",
   "metadata": {},
   "outputs": [],
   "source": [
    "cyber_attack_count = url_df.type.value_counts()\n",
    "cyber_attack_count"
   ]
  },
  {
   "cell_type": "code",
   "execution_count": null,
   "id": "4434feca",
   "metadata": {},
   "outputs": [],
   "source": [
    "cyber_attack_count_index = cyber_attack_count.index\n",
    "cyber_attack_count_index"
   ]
  },
  {
   "cell_type": "markdown",
   "id": "c2ef3794",
   "metadata": {},
   "source": [
    "### 3.3 Plotting cyber attack types"
   ]
  },
  {
   "cell_type": "code",
   "execution_count": null,
   "id": "23db1a84",
   "metadata": {},
   "outputs": [],
   "source": [
    "counts = url_df['type'].value_counts().rename_axis('type').reset_index(name='count')\n",
    "snsplt = sns.barplot(x=cyber_attack_count.index, y=cyber_attack_count, data=counts)\n",
    "snsplt.bar_label(snsplt.containers[0])\n"
   ]
  },
  {
   "cell_type": "code",
   "execution_count": null,
   "id": "a04b201d",
   "metadata": {},
   "outputs": [],
   "source": [
    "#sns.barplot(x=cyber_attack_count.index, y=cyber_attack_count)\n",
    "#snsplt.set(xlabel = 'Cyber Attack Types', \n",
    "#           ylabel = 'Count',\n",
    "#           title = 'Types of Cyber Attacks')\n",
    "#snsplt.bar_label(snsplt.containers[0])"
   ]
  },
  {
   "cell_type": "markdown",
   "id": "5975515f",
   "metadata": {},
   "source": [
    "### 3.4 URL data processing"
   ]
  },
  {
   "cell_type": "markdown",
   "id": "80f24b78",
   "metadata": {},
   "source": [
    "### 3.4.1 Removing www. from the URL scheme"
   ]
  },
  {
   "cell_type": "code",
   "execution_count": null,
   "id": "40970adf",
   "metadata": {},
   "outputs": [],
   "source": [
    "# Removing www from the URL scheme\n",
    "url_df['url'] = url_df['url'].replace('www.', '', regex=True)\n",
    "url_df"
   ]
  },
  {
   "cell_type": "markdown",
   "id": "f15612c9",
   "metadata": {},
   "source": [
    "### 3.4.2 Adding Category to represent type with Numbers (Category Numbers)"
   ]
  },
  {
   "cell_type": "code",
   "execution_count": null,
   "id": "f45a18a7",
   "metadata": {},
   "outputs": [],
   "source": [
    "# Adding Category to represent type with Numbers (Category Numbers)\n",
    "replacement_data = {\"Category\": {\"benign\":0, \"defacement\":1, \"phishing\":2, \"malware\":3}}\n",
    "url_df['Category'] = url_df['type']\n",
    "url_df = url_df.replace(replacement_data)\n",
    "url_df.head(10)"
   ]
  },
  {
   "cell_type": "markdown",
   "id": "236248e6",
   "metadata": {},
   "source": [
    "## 4. Feature Extraction - Data Preparation"
   ]
  },
  {
   "cell_type": "markdown",
   "id": "1c720cb5",
   "metadata": {},
   "source": [
    "### 4.1 Adding a url length column"
   ]
  },
  {
   "cell_type": "code",
   "execution_count": null,
   "id": "e88e0030",
   "metadata": {},
   "outputs": [],
   "source": [
    "#4.1 Adding a url length column\n",
    "url_df['url_len'] = url_df['url'].apply(lambda x: len(str(x)))\n",
    "url_df.head(10)"
   ]
  },
  {
   "cell_type": "markdown",
   "id": "eb5f768e",
   "metadata": {},
   "source": [
    "### 4.2 Extract TLD from whole URL"
   ]
  },
  {
   "cell_type": "code",
   "execution_count": null,
   "id": "9c081f97",
   "metadata": {},
   "outputs": [],
   "source": [
    "# Function to extract and get top level domain \n",
    "# netloc - returns the network location, which will be the domain (and subdomain if present),\n",
    "# the port number, and any credentials supplied (if present in the URL)\n",
    "# Resulting Form: username:password@domain.com:443\n",
    "\n",
    "def getTLD(url):\n",
    "    try:\n",
    "        #Extract tld from the url supplied\n",
    "        tldomain = get_tld(url, as_object=True, fail_silently=False, fix_protocol=True)\n",
    "        primary_domain = tldomain.parsed_url.netloc\n",
    "    except:\n",
    "        primary_domain = None\n",
    "    return primary_domain"
   ]
  },
  {
   "cell_type": "code",
   "execution_count": null,
   "id": "2f4e12b6",
   "metadata": {},
   "outputs": [],
   "source": [
    "# 4.2 Adding a domain column\n",
    "url_df['domain'] = url_df['url'].apply(lambda d: getTLD(d))\n",
    "url_df.head(10)"
   ]
  },
  {
   "cell_type": "markdown",
   "id": "6df1cdf0",
   "metadata": {},
   "source": [
    "### 4.3 Count special characters in URL"
   ]
  },
  {
   "cell_type": "code",
   "execution_count": null,
   "id": "9526ce61",
   "metadata": {},
   "outputs": [],
   "source": [
    "spl_characters = ['@','?','-','=','.','#','%','+','$','!','*',',','//']\n",
    "for s in spl_characters:\n",
    "    url_df[s] = url_df['url'].apply(lambda c: c.count(s))"
   ]
  },
  {
   "cell_type": "code",
   "execution_count": null,
   "id": "3f97a1c9",
   "metadata": {},
   "outputs": [],
   "source": [
    "url_df.head(10)"
   ]
  },
  {
   "cell_type": "markdown",
   "id": "60c615fb",
   "metadata": {},
   "source": [
    "### 4.4 Identify if an URL is non-conformant (abnormal) URL or not"
   ]
  },
  {
   "cell_type": "code",
   "execution_count": null,
   "id": "61a61ab8",
   "metadata": {},
   "outputs": [],
   "source": [
    "# Function to identify the number of non-conformant or abnormal URLs \n",
    "# urlparse() parses the URL into six components and returns a 6-tuple\n",
    "# Tuples are immutable data types that can store multiple values of different data types, kind of like a list\n",
    "# Return 1 if conformant or else it returns 0 for nonconformant urls\n",
    "\n",
    "def isNonConformantUrl(url):\n",
    "    hostname = urlparse(url).hostname\n",
    "    hostname = str(hostname)\n",
    "    regex_match = re.search(hostname, url)\n",
    "    if regex_match:\n",
    "        #print(regex_match.group())\n",
    "        return 1\n",
    "    else:\n",
    "        #print('Not matching pattern found')\n",
    "        return 0"
   ]
  },
  {
   "cell_type": "code",
   "execution_count": null,
   "id": "654a77ff",
   "metadata": {},
   "outputs": [],
   "source": [
    "# Identify if an URL is non-conformant (abnormal) URL or not\n",
    "url_df['nonconformant_url'] = url_df['url'].apply(lambda i: isNonConformantUrl(i))\n",
    "url_df.head(10)"
   ]
  },
  {
   "cell_type": "markdown",
   "id": "d4d5860a",
   "metadata": {},
   "source": [
    "#### Plot Conformant and Non-conformant URLs"
   ]
  },
  {
   "cell_type": "code",
   "execution_count": null,
   "id": "4776b4c9",
   "metadata": {},
   "outputs": [],
   "source": [
    "snsplt = sns.countplot(x='nonconformant_url', data=url_df)\n",
    "snsplt.set(xlabel = 'URL Conformance', \n",
    "           ylabel = 'Count',\n",
    "           title = 'URLs (non-conformant:0, conformant:1)')\n",
    "snsplt.bar_label(snsplt.containers[0])"
   ]
  },
  {
   "cell_type": "markdown",
   "id": "fb872c35",
   "metadata": {},
   "source": [
    "### 4.5 Identify if an URL is Secure or not"
   ]
  },
  {
   "cell_type": "code",
   "execution_count": null,
   "id": "ae29956c",
   "metadata": {},
   "outputs": [],
   "source": [
    "# Function to determine if a URL is secure or not \n",
    "# urlparse() parses the URL into six components and returns a 6-tuple\n",
    "# Tuples are immutable data types that can store multiple values of different data types, kind of like a list\n",
    "# Return 1 if secure or else it returns 0 for nonsecure urls\n",
    "# urllib supports the following URL schemes - http, https, ftp, gopher, file, ...\n",
    "\n",
    "def isSecureUrl(url):\n",
    "    urlScheme = urlparse(url).scheme\n",
    "    regex_match = str(urlScheme)\n",
    "    \n",
    "    if regex_match == 'https':\n",
    "        #print(regex_match.group())\n",
    "        return 1\n",
    "    else:\n",
    "        #print('Not matching pattern found')\n",
    "        return 0"
   ]
  },
  {
   "cell_type": "code",
   "execution_count": null,
   "id": "518f0010",
   "metadata": {},
   "outputs": [],
   "source": [
    "#  Identify if an URL is Secure or not\n",
    "url_df['secure_url'] = url_df['url'].apply(lambda i: isSecureUrl(i))\n",
    "url_df.head(10)"
   ]
  },
  {
   "cell_type": "markdown",
   "id": "58793c5e",
   "metadata": {},
   "source": [
    "#### Plot Is Secure URLs "
   ]
  },
  {
   "cell_type": "code",
   "execution_count": null,
   "id": "0bafe13d",
   "metadata": {},
   "outputs": [],
   "source": [
    "snsplt = sns.countplot(x='secure_url', data=url_df)\n",
    "snsplt.set(xlabel = 'URL Security', \n",
    "           ylabel = 'Count',\n",
    "           title = 'URLs (http:0, https:1)')\n",
    "snsplt.bar_label(snsplt.containers[0])"
   ]
  },
  {
   "cell_type": "markdown",
   "id": "a5728f5e",
   "metadata": {},
   "source": [
    "### 4.6 Determine the number of digits in the URL"
   ]
  },
  {
   "cell_type": "code",
   "execution_count": null,
   "id": "b7493b0d",
   "metadata": {},
   "outputs": [],
   "source": [
    "# Function to determine the number of digits in the URL using the isnumeric function \n",
    "\n",
    "def getDigitCount(url):\n",
    "    digits = 0\n",
    "    for i in url:\n",
    "        if i.isnumeric(): \n",
    "            digits += 1\n",
    "    return digits"
   ]
  },
  {
   "cell_type": "code",
   "execution_count": null,
   "id": "7987221e",
   "metadata": {},
   "outputs": [],
   "source": [
    "# Determine the number of digits in the URL\n",
    "url_df['num_of_digits'] = url_df['url'].apply(lambda i: getDigitCount(i))\n",
    "url_df.head(10)"
   ]
  },
  {
   "cell_type": "markdown",
   "id": "5e5fced8",
   "metadata": {},
   "source": [
    "### 4.7 Determine the number of alpha characters (letters) in the URL"
   ]
  },
  {
   "cell_type": "code",
   "execution_count": null,
   "id": "05b1dc01",
   "metadata": {},
   "outputs": [],
   "source": [
    "# Function to determine the number of letters  in the URL using the isalpha function \n",
    "\n",
    "def getLetterCount(url):\n",
    "    letters = 0\n",
    "    for i in url:\n",
    "        if i.isalpha(): \n",
    "            letters += 1\n",
    "    return letters"
   ]
  },
  {
   "cell_type": "code",
   "execution_count": null,
   "id": "65a8d6d8",
   "metadata": {},
   "outputs": [],
   "source": [
    "# Determine the number of alpha characters (letters) in the URL\n",
    "url_df['num_of_letters'] = url_df['url'].apply(lambda i: getLetterCount(i))\n",
    "url_df.head(10)"
   ]
  },
  {
   "cell_type": "markdown",
   "id": "5532f5cb",
   "metadata": {},
   "source": [
    "## 5. Model Training"
   ]
  },
  {
   "cell_type": "markdown",
   "id": "18d8a066",
   "metadata": {},
   "source": [
    "### 5.1 Target Data (Data Cleanup)"
   ]
  },
  {
   "cell_type": "code",
   "execution_count": null,
   "id": "7beb39ed",
   "metadata": {},
   "outputs": [],
   "source": [
    "# Dropping non-numeric columns to speed up model training and assigning dataframe to a variable (X)\n",
    "X = url_df.drop(['url','type','Category','domain'],axis=1)\n",
    "# Assigning the Category column to a variable (y)\n",
    "y = url_df['Category']"
   ]
  },
  {
   "cell_type": "code",
   "execution_count": null,
   "id": "3f1e51ca",
   "metadata": {},
   "outputs": [],
   "source": [
    "#Checking the data in the variable X\n",
    "X"
   ]
  },
  {
   "cell_type": "code",
   "execution_count": null,
   "id": "efa445a4",
   "metadata": {},
   "outputs": [],
   "source": [
    "# Checking the data in the variable y\n",
    "y"
   ]
  },
  {
   "cell_type": "markdown",
   "id": "c81867e1",
   "metadata": {},
   "source": [
    "### 5.2 Plot Heat Map of Target Data"
   ]
  },
  {
   "cell_type": "code",
   "execution_count": null,
   "id": "81cedb2d",
   "metadata": {},
   "outputs": [],
   "source": [
    "# Plot Heat Map of Target Data\n",
    "plt.figure(figsize=(15, 15))\n",
    "sns.heatmap(X.corr(), linewidths=.5)"
   ]
  },
  {
   "cell_type": "markdown",
   "id": "91276c05",
   "metadata": {},
   "source": [
    "### 5.3 Train Test Splitting"
   ]
  },
  {
   "cell_type": "code",
   "execution_count": null,
   "id": "77076a90",
   "metadata": {},
   "outputs": [],
   "source": [
    "X_train, X_test, y_train, y_test = train_test_split(X,y, test_size=0.2, random_state=1337)"
   ]
  },
  {
   "cell_type": "code",
   "execution_count": null,
   "id": "0ffb8dac",
   "metadata": {},
   "outputs": [],
   "source": [
    "#X_train"
   ]
  },
  {
   "cell_type": "code",
   "execution_count": null,
   "id": "5119043e",
   "metadata": {},
   "outputs": [],
   "source": [
    "#X_test"
   ]
  },
  {
   "cell_type": "code",
   "execution_count": null,
   "id": "003391c2",
   "metadata": {},
   "outputs": [],
   "source": [
    "#y_train"
   ]
  },
  {
   "cell_type": "code",
   "execution_count": null,
   "id": "8d15d2be",
   "metadata": {},
   "outputs": [],
   "source": [
    "#y_test"
   ]
  },
  {
   "cell_type": "markdown",
   "id": "0722839a",
   "metadata": {},
   "source": [
    "### 5.4 Training the Models"
   ]
  },
  {
   "cell_type": "code",
   "execution_count": null,
   "id": "3d562b19",
   "metadata": {},
   "outputs": [],
   "source": [
    "#all_models = [DecisionTreeClassifier,\n",
    "#          LogisticRegression,\n",
    "#          RandomForestClassifier,\n",
    "#         AdaBoostClassifier,\n",
    "#         #KNeighborsClassifier,\n",
    "#         SGDClassifier,\n",
    "#         ExtraTreesClassifier,\n",
    "#         GaussianNB]\n",
    "\n",
    "models = [RandomForestClassifier]"
   ]
  },
  {
   "cell_type": "code",
   "execution_count": null,
   "id": "8aa0127f",
   "metadata": {},
   "outputs": [],
   "source": [
    "accuracy_test = []"
   ]
  },
  {
   "cell_type": "code",
   "execution_count": null,
   "id": "6038557e",
   "metadata": {},
   "outputs": [],
   "source": [
    "for m in models:\n",
    "    print('\\033[32m----------------------Begin-----------------------\\033[0m')\n",
    "    print('######-Model =>\\033[07m {} \\033[0m'.format(m))\n",
    "    #model_ = m()\n",
    "    \n",
    "    # To handle convergence in LogisticRegression\n",
    "    #model_name = type(m).__name__\n",
    "    #if model_name == \"LogisticRegression\":\n",
    "    #   model_ = m(max_iter=1000)\n",
    "    #else:\n",
    "    #    model_ = m()\n",
    "    \n",
    "    model_ = m()\n",
    "    model_.fit(X_train, y_train)\n",
    "    pred = model_.predict(X_test)\n",
    "    acc = accuracy_score(pred, y_test)\n",
    "    accuracy_test.append(acc)\n",
    "    print('Test Accuracy :\\033[32m \\033[01m {:.2f}% \\033[30m \\033[0m'.format(acc*100))\n",
    "    print('\\033[01m                      Classification Report  \\033[0m')\n",
    "    print(classification_report(y_test, pred))\n",
    "    print('\\033[01m                      Confusion Matrix  \\033[0m')\n",
    "    cf_matrix = confusion_matrix(y_test, pred)\n",
    "    plot_ = sns.heatmap(cf_matrix/np.sum(cf_matrix), annot=True, fmt='0.2%')\n",
    "    plt.show()\n",
    "    print('\\033[31m----------------------End-------------------------\\033[0m')"
   ]
  },
  {
   "cell_type": "code",
   "execution_count": null,
   "id": "b34d1475",
   "metadata": {},
   "outputs": [],
   "source": [
    "#all_ml_output = pd.DataFrame({\"Model\":['Decision Tree Classifier',\n",
    "#                                   'Logistic Regression',\n",
    "#                                  'Random Tree Classifier', \n",
    "#                                  'AdaBoost Classifier',\n",
    "#                                  #'KNeighbors Classifier',\n",
    "#                                  'SGD Classifier',\n",
    "#                                  'Extra Trees Classifier',\n",
    "#                                  'Guassian Naives Bayes'],\n",
    "#                         \"Accuracy\": accuracy_test})\n",
    "\n",
    "ml_output = pd.DataFrame({\"Model\":['Random Tree Classifier'],\n",
    "                         \"Accuracy\": accuracy_test})"
   ]
  },
  {
   "cell_type": "code",
   "execution_count": null,
   "id": "a893a562",
   "metadata": {},
   "outputs": [],
   "source": [
    "X_test"
   ]
  },
  {
   "cell_type": "code",
   "execution_count": null,
   "id": "52d2c741",
   "metadata": {},
   "outputs": [],
   "source": [
    "plt.figure(figsize=(10,5))\n",
    "plots = sns.barplot(x='Model', y='Accuracy', data=ml_output)\n",
    "for bar in plots.patches:\n",
    "    plots.annotate(format(bar.get_height(),'.2f'),\n",
    "                  (bar.get_x() + bar.get_width() / 2,\n",
    "                  bar.get_height()),\n",
    "                  ha='center',\n",
    "                  va='center',\n",
    "                  size=15,\n",
    "                  xytext=(0,8),\n",
    "                  textcoords='offset points')\n",
    "plt.xlabel(\"Models\", size=14)\n",
    "plt.xticks(rotation=20)\n",
    "plt.ylabel(\"Accuracy\", size =14)\n",
    "plt.show()"
   ]
  },
  {
   "cell_type": "markdown",
   "id": "8c67baa8",
   "metadata": {},
   "source": [
    "## 6. Model Evaluation (Testing)"
   ]
  },
  {
   "cell_type": "markdown",
   "id": "2b076f4f",
   "metadata": {},
   "source": [
    "### 6.1 URL Processing Function"
   ]
  },
  {
   "cell_type": "code",
   "execution_count": null,
   "id": "2e08a1be",
   "metadata": {},
   "outputs": [],
   "source": [
    "# Function to convert and process urls supplied to determine of the URL is malicious or not\n",
    "\n",
    "def URLProcessor(urls):\n",
    "    _df = pd.DataFrame()\n",
    "    _df['url'] = pd.Series(urls)\n",
    "    \n",
    "    _df['url_len'] = _df['url'].apply(lambda x: len(str(x)))\n",
    "    _df['domain'] = _df['url'].apply(lambda x: getTLD(x))\n",
    "    feature = ['@','?','-','=','.','#','%','+','$','!','*',',','//']\n",
    "    for f in feature:\n",
    "        _df[f] = _df['url'].apply(lambda x: x.count(f))\n",
    "    _df['nonconformant_url'] = _df['url'].apply(lambda x: isNonConformantUrl(x))\n",
    "    _df['secure_url'] = _df['url'].apply(lambda x: isSecureUrl(x))\n",
    "    _df['num_of_digits'] = _df['url'].apply(lambda x: getDigitCount(x))\n",
    "    _df['num_of_letters'] = _df['url'].apply(lambda x: getLetterCount(x))\n",
    "    #_df['is_shortened_url'] = _df['url'].apply(lambda x: isShortenedURL(x))\n",
    "    #_df['is_IP_in_url'] = _df['url'].apply(lambda x: isIPinURL(x))\n",
    "    \n",
    "    print(_df.columns)\n",
    "    X = _df.drop(['url', 'domain'], axis=1)\n",
    "    \n",
    "    return X"
   ]
  },
  {
   "cell_type": "markdown",
   "id": "078c7797",
   "metadata": {},
   "source": [
    "### 6.2 Input - Test URLs"
   ]
  },
  {
   "cell_type": "code",
   "execution_count": null,
   "id": "e28f4b52",
   "metadata": {},
   "outputs": [],
   "source": [
    "# URLS to check if they are malicious or not\n",
    "urls= ['diaryofagameaddict.com',\n",
    "       'crackspider.us/toolbar/install.php?pack=exe',\n",
    "       'pashminaonline.com/pure-pashminas',\n",
    "       'espdesign.com.au',\n",
    "       'iamagameaddict.com',\n",
    "       'kalantzis.net',\n",
    "       'slightlyoffcenter.net',\n",
    "       'toddscarwash.com',\n",
    "       'tubemoviez.com',\n",
    "       'ipl.hk',\n",
    "       'pos-kupang.com/',\n",
    "       'rupor.info',\n",
    "       'svision-online.de/mgfi/administrator/components/com_babackup/classes/fx29id1.txt',\n",
    "       'officeon.ch.ma/office.js?google_ad_format=728x90_as',\n",
    "       'sn-gzzx.com',\n",
    "       'sunlux.net/company/about.html',\n",
    "       'outporn.com',\n",
    "       'timothycopus.aimoo.com',\n",
    "       'xindalawyer.com',\n",
    "       'freeserials.spb.ru/key/68703.htm',\n",
    "       'deletespyware-adware.com',\n",
    "       'orbowlada.strefa.pl/text396.htm',\n",
    "       'ruiyangcn.com',\n",
    "       'zkic.com',\n",
    "       'adserving.favorit-network.com/eas?camp=19320;cre=mu&grpid=1738&tag_id=618&nums=FGApbjFAAA',\n",
    "       'cracks.vg/d1.php',\n",
    "       'nuptialimages.com',\n",
    "       'andysgame.com',\n",
    "       'bezproudoff.cz',\n",
    "       'ceskarepublika.net',\n",
    "       'hotspot.cz',\n",
    "       'gmcjjh.org/DHL',\n",
    "       'nerez-schodiste-zabradli.com',\n",
    "       'nordiccountry.cz',\n",
    "       'nowina.info',\n",
    "       'obada-konstruktiwa.org',\n",
    "       'otylkaaotesanek.cz',\n",
    "       'pb-webdesign.net',\n",
    "       'pension-helene.cz',\n",
    "       'podzemi.myotis.info',\n",
    "       'smrcek.com',\n",
    "       'spekband.com',\n",
    "       'm2132.ehgaugysd.net/zyso.cgi?18',\n",
    "       'webcom-software.ws/links/?153646e8b0a88',\n",
    "       'worldgymperu.com',\n",
    "       'zgsysz.com',\n",
    "       'oknarai.ru',\n",
    "       'realinnovation.com/css/menu.js']"
   ]
  },
  {
   "cell_type": "code",
   "execution_count": null,
   "id": "f78fb690",
   "metadata": {},
   "outputs": [],
   "source": [
    "# URLS to check if they are malicious or not\n",
    "urls= ['crackspider.us/toolbar/install.php?pack=exe',\n",
    "       'deletespyware-adware.com',\n",
    "       'realinnovation.com/css/menu.js']"
   ]
  },
  {
   "cell_type": "markdown",
   "id": "801e8d26",
   "metadata": {},
   "source": [
    "### 6.3 Assigning Test URLs into a variable (test_data)"
   ]
  },
  {
   "cell_type": "code",
   "execution_count": null,
   "id": "c902a913",
   "metadata": {
    "scrolled": true
   },
   "outputs": [],
   "source": [
    "test_data = URLProcessor(urls)\n",
    "#test_data = URLProcessor('http://ak.imgfarm.com/images/nocache/vicinio/installers/205320000.S10570.1/507981-150710122501-S10570.1/VideoDownloadConvertAuto.exe_0')"
   ]
  },
  {
   "cell_type": "code",
   "execution_count": null,
   "id": "77b4a240",
   "metadata": {},
   "outputs": [],
   "source": [
    "models"
   ]
  },
  {
   "cell_type": "markdown",
   "id": "b90882b7",
   "metadata": {},
   "source": [
    "### 6.4 Using models to predict Test URL"
   ]
  },
  {
   "cell_type": "code",
   "execution_count": null,
   "id": "1e51dd6b",
   "metadata": {},
   "outputs": [],
   "source": [
    "import joblib\n",
    "\n",
    "# benign:0, defacement:1, phishing:2, malware:3\n",
    "for m in models:\n",
    "    print('---------------------------------------')\n",
    "    print('######-Model =>\\033[07m {} \\033[0m'.format(m))\n",
    "    model_ = m()\n",
    "    model_.fit(X_train, y_train)\n",
    "    #Save the model (model_) \n",
    "    model_name = type(model_).__name__\n",
    "    model_name_to_save ='HackerURLDetectorModel_' + model_name + '.joblib'\n",
    "    joblib.dump(model_, model_name_to_save)\n",
    "    print(model_name_to_save + ' was saved')\n",
    "    #pred = model_.predict(test_data)\n",
    "    #print(pred)"
   ]
  },
  {
   "cell_type": "markdown",
   "id": "54e3d27a",
   "metadata": {},
   "source": [
    "### 6.5 Model Evaluation (Accuracy) Report"
   ]
  },
  {
   "cell_type": "code",
   "execution_count": null,
   "id": "ea908ce9",
   "metadata": {},
   "outputs": [],
   "source": [
    "ml_output = pd.DataFrame({\"Model\":['Random Forest Classifier'],\n",
    "                         \"Accuracy\": accuracy_test})\n",
    "print(ml_output)"
   ]
  },
  {
   "cell_type": "code",
   "execution_count": null,
   "id": "d9a861e8",
   "metadata": {},
   "outputs": [],
   "source": [
    "#Loading a saved joblib model to make predictions\n",
    "malurl_model = joblib.load('HackerURLDetectorModel_RandomForestClassifier.joblib')\n",
    "#predictions = malurl_model.predict(x_test)\n",
    "#predictions"
   ]
  },
  {
   "cell_type": "code",
   "execution_count": null,
   "id": "643afbdc",
   "metadata": {},
   "outputs": [],
   "source": [
    "# malware\n",
    "url = \"http://ak.imgfarm.com/images/nocache/vicinio/installers/205320000.S10570.1/507981-150710122501-S10570.1/VideoDownloadConvertAuto.exe_0\"\n",
    "\n",
    "# defacement\n",
    "#url = \"http://www.raci.it/component/user/reset.html\"\n",
    "    \n",
    "# phishing\n",
    "\n",
    "\n",
    "# benign\n",
    "#url = \"https://hallmark.businessgreetings.com\"\n",
    "#url = \"https://parsippanysoccerclub.org/\"\n",
    "\n",
    "test_data = URLProcessor(url)\n",
    "\n",
    "#url = \"https://parsippanysoccerclub.org/\"\n",
    "class_mapping = {0: 'benign',\n",
    "                 1: 'defacement',\n",
    "                 2: 'phishing',\n",
    "                 3: 'malware'\n",
    "                }\n",
    "\n",
    "# benign:0, defacement:1, phishing:2, malware:3\n",
    "# for m in models:\n",
    "#     print('---------------------------------------')\n",
    "#     print('######-Model =>\\033[07m {} \\033[0m'.format(m))\n",
    "#     model_ = m()\n",
    "#     model_.fit(X_train, y_train)\n",
    "#     pred = model_.predict(test_data)\n",
    "#     pred_int = \n",
    "#     print(pred)\n",
    "    \n",
    "prediction_int = malurl_model.predict(test_data)[0]\n",
    "prediction_label = class_mapping.get(prediction_int, 'Unknown')\n",
    "#print(url, model_predict(url)[0],model_predict(url)[1])\n",
    "print(url, prediction_int, prediction_label)"
   ]
  }
 ],
 "metadata": {
  "kernelspec": {
   "display_name": "Python 3 (ipykernel)",
   "language": "python",
   "name": "python3"
  },
  "language_info": {
   "codemirror_mode": {
    "name": "ipython",
    "version": 3
   },
   "file_extension": ".py",
   "mimetype": "text/x-python",
   "name": "python",
   "nbconvert_exporter": "python",
   "pygments_lexer": "ipython3",
   "version": "3.12.2"
  }
 },
 "nbformat": 4,
 "nbformat_minor": 5
}
